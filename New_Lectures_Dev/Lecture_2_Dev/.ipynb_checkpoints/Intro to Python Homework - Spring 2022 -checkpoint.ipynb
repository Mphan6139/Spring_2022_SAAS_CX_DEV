{
 "cells": [
  {
   "cell_type": "markdown",
   "id": "2c77b101",
   "metadata": {},
   "source": [
    "# Homework -- Lecture 2: Introduction to Python\n",
    "    \n",
    "\n",
    "*Given on February 22, 2022*\n",
    "\n",
    "[Student Association for Applied Statistics (SAAS)](https://saas.berkeley.edu) <br/>\n",
    "Authors: [Kavin Suresh](mailto:kavins@berkeley.edu), [Jade Pan](mailto:jpan4@berkeley.edu) <br/>"
   ]
  },
  {
   "cell_type": "markdown",
   "id": "6cb5c320",
   "metadata": {},
   "source": [
    "## Introduction\n"
   ]
  },
  {
   "cell_type": "markdown",
   "id": "83adc474",
   "metadata": {},
   "source": [
    "Amazing! You have just attended the lecture introducing python and all the need-to-know concepts within it! Good job!\n",
    "\n",
    "Now is the time to put all this new material to work!"
   ]
  },
  {
   "cell_type": "markdown",
   "id": "824bf3db",
   "metadata": {},
   "source": [
    "## 1. Basic Python Syntax"
   ]
  },
  {
   "cell_type": "markdown",
   "id": "51c000eb",
   "metadata": {},
   "source": [
    "### 1.1 Jupyter"
   ]
  },
  {
   "cell_type": "markdown",
   "id": "9cc49302",
   "metadata": {},
   "source": [
    "##### 1.1a: \n",
    "\n",
    "Run the cell below by using the keyboard shortcut we learned during lecture."
   ]
  },
  {
   "cell_type": "code",
   "execution_count": null,
   "id": "74e14184",
   "metadata": {},
   "outputs": [],
   "source": [
    "print(\"You are a pro who can use JupyterNotebooks! :)\")"
   ]
  },
  {
   "cell_type": "markdown",
   "id": "930caca5",
   "metadata": {},
   "source": [
    "##### 1.1b: \n",
    "\n",
    "Create a markdown cell below this one using the keyboard shortcuts we learned during lecture.\n",
    "\n",
    "*Hint: This will take more than one keyboard shortcut!*"
   ]
  },
  {
   "cell_type": "markdown",
   "id": "b47e1a07",
   "metadata": {},
   "source": [
    "### 1.2 Code"
   ]
  },
  {
   "cell_type": "markdown",
   "id": "40f8c68a",
   "metadata": {},
   "source": [
    "##### 1.2a: \n",
    "\n",
    "Create the following output using print statements in the provided cell.\n",
    "\n",
    "*Hint: You will need to figure out a way to use the print statement to create the blank line!*"
   ]
  },
  {
   "cell_type": "markdown",
   "id": "24500165",
   "metadata": {},
   "source": [
    ">```\n",
    ">    SAAS\n",
    ">    \n",
    ">    is\n",
    ">    pretty\n",
    ">    cool!\n",
    ">```"
   ]
  },
  {
   "cell_type": "code",
   "execution_count": null,
   "id": "a3d4385d",
   "metadata": {},
   "outputs": [],
   "source": [
    "#Code your solution here."
   ]
  },
  {
   "cell_type": "markdown",
   "id": "0c2316e1",
   "metadata": {},
   "source": [
    "### 1.3 Comments"
   ]
  },
  {
   "cell_type": "markdown",
   "id": "d3c60849",
   "metadata": {},
   "source": [
    "##### 1.3a: \n",
    "\n",
    "In the provided code cell below, comment out any lines needed to create the following output."
   ]
  },
  {
   "cell_type": "markdown",
   "id": "96fc5871",
   "metadata": {},
   "source": [
    ">```\n",
    ">    B\n",
    ">    A\n",
    ">    N\n",
    ">    A\n",
    ">    N\n",
    ">    A\n",
    ">```"
   ]
  },
  {
   "cell_type": "code",
   "execution_count": null,
   "id": "f9ba25ad",
   "metadata": {},
   "outputs": [],
   "source": [
    "#Comment out any of the following lines to create the desired output!\n",
    "\n",
    "print(\"B\")\n",
    "print(\"A\")\n",
    "print(\"N\")\n",
    "print(\"D\")\n",
    "print(\"A\")\n",
    "print(\"N\")\n",
    "print(\"A\")"
   ]
  },
  {
   "cell_type": "markdown",
   "id": "07554bd1",
   "metadata": {},
   "source": [
    "### 1.4 Errors"
   ]
  },
  {
   "cell_type": "markdown",
   "id": "eb321986",
   "metadata": {},
   "source": [
    "##### 1.4a: \n",
    "\n",
    "Purposely create an error in your code to create an error output. The code can be anything: a function, a variable, or even gibberish from your keyboard. Try to create an error that is not a \"SyntaxError\"!"
   ]
  },
  {
   "cell_type": "code",
   "execution_count": null,
   "id": "2320b6fa",
   "metadata": {},
   "outputs": [],
   "source": [
    "#Create faulty code here!"
   ]
  },
  {
   "cell_type": "markdown",
   "id": "681cd993",
   "metadata": {},
   "source": [
    "### 1.5 Numbers and Math"
   ]
  },
  {
   "cell_type": "markdown",
   "id": "9ba9a7c7",
   "metadata": {},
   "source": [
    "##### 1.5a: \n",
    "\n",
    "Create pi (3.14xxx) using the following operators (+, -, *, /, %, and * *) and any numbers you wish. Do this all within a print statement and print it out!"
   ]
  },
  {
   "cell_type": "code",
   "execution_count": null,
   "id": "d1be1382",
   "metadata": {},
   "outputs": [],
   "source": [
    "#Do your work here!\n",
    "print(...)"
   ]
  },
  {
   "cell_type": "markdown",
   "id": "80e693cd",
   "metadata": {},
   "source": [
    "##### 1.5b: \n",
    "\n",
    "Swap the location of two operators in the following code cell so that it outputs 30.0 instead of 15.0."
   ]
  },
  {
   "cell_type": "code",
   "execution_count": null,
   "id": "ff424622",
   "metadata": {},
   "outputs": [],
   "source": [
    "10 + 5 * 10 / 10"
   ]
  },
  {
   "cell_type": "markdown",
   "id": "703529c2",
   "metadata": {},
   "source": [
    "## 2. Variables and Functions (Jade's Stuff)"
   ]
  },
  {
   "cell_type": "markdown",
   "id": "0b32dca6",
   "metadata": {},
   "source": [
    "### 2.1 Variables"
   ]
  },
  {
   "cell_type": "code",
   "execution_count": null,
   "id": "0cd5957e",
   "metadata": {},
   "outputs": [],
   "source": [
    "..."
   ]
  },
  {
   "cell_type": "markdown",
   "id": "a36e92b2",
   "metadata": {},
   "source": [
    "### 2.2 Control Flow"
   ]
  },
  {
   "cell_type": "code",
   "execution_count": null,
   "id": "00cf9446",
   "metadata": {},
   "outputs": [],
   "source": [
    "..."
   ]
  },
  {
   "cell_type": "markdown",
   "id": "6e78ddf1",
   "metadata": {},
   "source": [
    "### 2.3 Functions"
   ]
  },
  {
   "cell_type": "code",
   "execution_count": null,
   "id": "6e64cf34",
   "metadata": {},
   "outputs": [],
   "source": [
    "..."
   ]
  },
  {
   "cell_type": "markdown",
   "id": "e66c018f",
   "metadata": {},
   "source": [
    "## 3. Arrays and Iteration"
   ]
  },
  {
   "cell_type": "markdown",
   "id": "39844ec8",
   "metadata": {},
   "source": [
    "### 3.1 Arrays and Lists"
   ]
  },
  {
   "cell_type": "markdown",
   "id": "fcc72fd8",
   "metadata": {},
   "source": [
    "##### 3.1a: \n",
    "\n",
    "Turn the following list into a nested list that separates based on fruits and vegetables! Fruits should go first and vegetables second."
   ]
  },
  {
   "cell_type": "code",
   "execution_count": null,
   "id": "5574cb00",
   "metadata": {},
   "outputs": [],
   "source": [
    "eatYourFruitsAndVeggiesKids = [\"Apple\", \"Banana\", \"Broccoli\", \"Mango\", \"Onion\", \"Bell Pepper\"]\n",
    "eatYourFruitsAndVeggiesKids"
   ]
  },
  {
   "cell_type": "markdown",
   "id": "adeff238",
   "metadata": {},
   "source": [
    "##### 3.1b: \n",
    "\n",
    "Remove the last item on the list above (stored to eatYourFruitsAndVeggiesKids) and assign it to the variable veggies. Print the veggies variable.\n",
    "\n",
    "*Hint: This is all doable with just ONE function used.*"
   ]
  },
  {
   "cell_type": "code",
   "execution_count": null,
   "id": "6a3e9e63",
   "metadata": {},
   "outputs": [],
   "source": [
    "veggies = ..."
   ]
  },
  {
   "cell_type": "markdown",
   "id": "0a21e66d",
   "metadata": {},
   "source": [
    "##### 3.1c: \n",
    "\n",
    "Insert \"Eggplant\" into the beginning of the veggies list. Print the veggies variable.\n",
    "\n",
    "*Hint: Once again, this is doable with just ONE function used.*"
   ]
  },
  {
   "cell_type": "code",
   "execution_count": null,
   "id": "64f89a09",
   "metadata": {},
   "outputs": [],
   "source": [
    "..."
   ]
  },
  {
   "cell_type": "markdown",
   "id": "ac517d2f",
   "metadata": {},
   "source": [
    "### 3.2 Dictionaries (FOR JADE)"
   ]
  },
  {
   "cell_type": "code",
   "execution_count": null,
   "id": "53cb5c95",
   "metadata": {},
   "outputs": [],
   "source": [
    "..."
   ]
  },
  {
   "cell_type": "markdown",
   "id": "267d53ac",
   "metadata": {},
   "source": [
    "### 3.3 For Loops"
   ]
  },
  {
   "cell_type": "markdown",
   "id": "c9e809d3",
   "metadata": {},
   "source": [
    "##### 3.3a: \n",
    "\n",
    "You will be provided two lists. Use two for loops to iterate through the lists and multiply all values of one list with all values of the other and print the results. For example, if a list is [1, 2] and another is [3, 4], the 1\\*3, 1\\*4, 2\\*3, and 2\\*4 should occur.\n",
    "\n",
    "\n",
    "*Hint: [This link](https://pynative.com/python-nested-loops/) will be useful.*"
   ]
  },
  {
   "cell_type": "code",
   "execution_count": null,
   "id": "e1e8b75c",
   "metadata": {},
   "outputs": [],
   "source": [
    "list1 = [1, 5, 8, 9, 11]\n",
    "list2 = [2, 4, 7, 10, 12]\n",
    "..."
   ]
  }
 ],
 "metadata": {
  "kernelspec": {
   "display_name": "Python 3",
   "language": "python",
   "name": "python3"
  },
  "language_info": {
   "codemirror_mode": {
    "name": "ipython",
    "version": 3
   },
   "file_extension": ".py",
   "mimetype": "text/x-python",
   "name": "python",
   "nbconvert_exporter": "python",
   "pygments_lexer": "ipython3",
   "version": "3.8.8"
  }
 },
 "nbformat": 4,
 "nbformat_minor": 5
}
