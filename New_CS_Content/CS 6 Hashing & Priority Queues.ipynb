{
 "cells": [
  {
   "cell_type": "markdown",
   "id": "b46a5b44",
   "metadata": {},
   "source": [
    "# [CS Series] Lecture 6: Hashing & Priority Queues\n",
    "\n",
    "## May 8, 2022\n",
    "\n",
    "### Hosted by and maintained by the [Student Association for Applied Statistics (SAAS)](https://saas.berkeley.edu).\n",
    "Created by Akhil Vemuri"
   ]
  },
  {
   "cell_type": "markdown",
   "id": "b58db0e5",
   "metadata": {},
   "source": [
    "### Table of Contents\n",
    "1. [Hashing](#hash)\n",
    "    1. [Arrays](#hash-arr)\n",
    "    2. [Dictionaries / Hash Tables](#hash-dict)\n",
    "    3. [Sets](#hash-set)"
   ]
  },
  {
   "cell_type": "markdown",
   "id": "574c0e5c",
   "metadata": {},
   "source": [
    "<a id='hash'></a>\n",
    "## Hashing"
   ]
  },
  {
   "cell_type": "markdown",
   "id": "7de70d9f",
   "metadata": {},
   "source": [
    "<a id='hash-arr'></a>\n",
    "### Arrays"
   ]
  },
  {
   "cell_type": "markdown",
   "id": "710bc0fd",
   "metadata": {},
   "source": [
    "One of the most common data structures used in Python is the array. We potentially abstract some of the features of arrays, but they do have operations and time complexities, similar to any regular class or function. The two operations we'll look at are ```get()``` and ```pop()```.\n",
    "\n",
    "```get(i)``` retrieves the element at index $i$ in the array.\n",
    "\n",
    "```pop(i)``` deletes the element at index $i$ in the array.\n",
    "\n",
    "Digging deeper into the Python docs, we can find out that ```get(i)``` is a constant $O(1)$ time operation, whereas ```pop(i)``` is a linear $O(n)$ time operation. But why is there a discrepancy? We would think it's quite simple to delete an element; we simply take it out of the array. It has to do with how arrays are formulated. Arrays are contiguous blocks of memory, meaning there are multiple blocks of space allocated on the computer to store an array. But these blocks of space must come one after another, no matter what. This means that if an element is deleted, we have to close the gap, i.e. we have to remove the empty block of space and conjoin the array once again."
   ]
  },
  {
   "cell_type": "markdown",
   "id": "6a3e16ef",
   "metadata": {},
   "source": [
    "![alt text](https://beginnersbook.com/wp-content/uploads/2018/10/array.jpg)"
   ]
  },
  {
   "cell_type": "markdown",
   "id": "34580b04",
   "metadata": {},
   "source": [
    "Another important operation of arrays, ```contains()```, also suffers from a poor time complexity. ```contains(val)``` checks whether the array contains element $\\text{val}$. This also takes $O(n)$ time since we must scan through all elements of the array to check whether $\\text{val}$ is inside.\n",
    "\n",
    "This is a gap in the design of arrays. And so other data structures have since been created as alternatives to solve some of these issues. But in this lecture, we'll be looking at alternatives that used hashing as a backbone."
   ]
  },
  {
   "cell_type": "markdown",
   "id": "ce1b3e33",
   "metadata": {},
   "source": [
    "<a id='hash-dict'></a>\n",
    "### Dictionaries / Hash Tables"
   ]
  },
  {
   "cell_type": "markdown",
   "id": "e74e5eb8",
   "metadata": {},
   "source": [
    "A dictionary, commonly known as a hash table, is a data structure that maintains a key-mapping pair between elements. For instance, I could store $\\{(\\text{dog}, 2), \\, (\\text{cat}, 5), \\, (\\text{bird}, 3) \\}$ inside one dictionary. The main benefit of using a dictionary is the $O(1)$ ```contains()``` operation as well as $O(1)$ ```insert()``` and ```pop()``` operations. However, it does give up the ability to order elements, like you could in an array. All these benefits are due to hashing."
   ]
  },
  {
   "cell_type": "markdown",
   "id": "c026d031",
   "metadata": {},
   "source": [
    "*Hashing* is the process of mapping data to some representative integer value using certain hashing algorithms. In Java, a hash code is an integer value that is linked with each object. In Python, the built-in ```hash()``` function returns the hash value of an object, the integer which is used to compare dictionary keys while looking at a dictionary. So hashing exists everywhere."
   ]
  },
  {
   "cell_type": "markdown",
   "id": "36223c8e",
   "metadata": {},
   "source": [
    "There's two properties we must have for hashing to work:\n",
    "\n",
    "**1. Each key should have a unique hashcode.**\n",
    "\n",
    "**2. The same key should have the same hashcode.**\n",
    "\n",
    "This is because each hashcode maps to a different key in the dictionary, and we look-up values based on a key's hash.\n",
    "\n",
    "For instance, let $\\text{hash(dog)} = 1$. Now, if we wanted to check whether our dictionary contained a $\\text{dog}$ element, we would simply check if bucket 1 contains $\\text{dog}$. Rather than linearly searching through all $n$ buckets, like in an array, we already know where a $\\text{dog}$ element would be if it existed, which is what makes the ```contains()``` operation for dictionaries so quick."
   ]
  },
  {
   "cell_type": "markdown",
   "id": "b880c2d9",
   "metadata": {},
   "source": [
    "We do run into some problems with the hashcode properties, however. Python has a max integer limit, so we can't possibly assign every single object a different integer hashcode. For example, if $\\text{hash(dog)} = 1$ and $\\text{hash(cat)} = 1$, then both keys map to the same bucket. This is known as *The Pigeonhole Principle*, and it essentially means that **collisions are inevitable.** We combat this by chaining keys with the same hashcode into the same bucket."
   ]
  },
  {
   "cell_type": "markdown",
   "id": "64fabd40",
   "metadata": {},
   "source": [
    "<div> <img src=\"hashing-chaining.png\" width=\"500\"/> </div>"
   ]
  },
  {
   "cell_type": "markdown",
   "id": "cd0b70bc",
   "metadata": {},
   "source": [
    "Another observation is that the worst case runtime of ```contains()``` is proportional to the length of the longest chain. So if we can reduce the number of buckets and keep the length of the longest chain the same, then we'll have saved a bunch of memory. We achieve this by using placing items via $\\text{hash(key)} \\, \\% \\, m$ where $m$ is the number of buckets.\n",
    "\n",
    "The final result is a dictionary / hash table with *amortized* $O(1)^*$ runtime. There are also other optimizations that can be made, such as resizing the number of buckets relative to the number of items, but this is the basic jist of how a dictionary works in Python."
   ]
  },
  {
   "cell_type": "markdown",
   "id": "9db568b9",
   "metadata": {},
   "source": [
    "<div> <img src=\"hashing-modulus.png\" width=\"350\"/> </div>"
   ]
  },
  {
   "cell_type": "markdown",
   "id": "29a9e685",
   "metadata": {},
   "source": [
    "The final missing component is how we determine our ```hash()``` function. In Python (and most other languages), this is built-in. But creating a good hash function on your own is actually quite difficult. The challenge is that we are bound to have collisions, but we still want to ensure our items are evenly spread such that no one bucket has a large chain. This is all dependent on the hash function used. Luckily, we don't have to make these on our own, but there is a whole other study behind the properties of good hash functions and how to ensure they work well in practice. For now, we'll just trust the ones given to us."
   ]
  },
  {
   "cell_type": "markdown",
   "id": "c7c09bc3",
   "metadata": {},
   "source": [
    "<a id='hash-set'></a>\n",
    "### Sets"
   ]
  },
  {
   "cell_type": "markdown",
   "id": "30a338d2",
   "metadata": {},
   "source": [
    "The other equivalent data structure to dictionaries are sets. Sets also use hashing for fast look-up operations, but instead of holding a (key, value) mapping, it simply holds keys. In a mathematical sense, a set of the first 5 positive integers includes $\\{1, 2, 3, 4, 5\\}$. A set in a data structures sense is actually quite similar, except it's purpose is the same as that of dictionaries: $O(1)$ ```contains()```, ```insert()```, and ```pop()``` operations."
   ]
  },
  {
   "cell_type": "markdown",
   "id": "f73864ff",
   "metadata": {},
   "source": [
    "<a id='pq'></a>\n",
    "## Priority Queues"
   ]
  },
  {
   "cell_type": "markdown",
   "id": "c17ec8c6",
   "metadata": {},
   "source": [
    "<a id='heap'></a>\n",
    "### Heaps"
   ]
  },
  {
   "cell_type": "markdown",
   "id": "7887bd80",
   "metadata": {},
   "source": [
    "Before we can talk about priority queues, we have to talk about heaps. A heap is a specialized tree-based data structure in which the tree is a complete binary tree that satisfies the *heap property*. The heap property states that any parent node $P$ must be smaller than both its child nodes $C$ in a *min heap*. Correspondingly, any parent node $P$ must be larger than its child nodes $C$ in a *max heap*. The node at the top of the heap is the *root* node, and by the heap property, it must contain the min or max element of the array, depending on which heap is implemented.\n",
    "\n",
    "**Note:** Heaps are different than binary trees since there is no dependency between different subtrees (meaning no recursive nature), whereas a binary tree requires the *entire* left subtree to be smaller than the root and the *entire* right subtree to be greater than the root."
   ]
  },
  {
   "cell_type": "markdown",
   "id": "4eefefab",
   "metadata": {},
   "source": [
    "<a id='ref'></a>\n",
    "## References \n",
    "\n",
    "* CS 170: DPV §6\n",
    "\n",
    "<hr \\>"
   ]
  }
 ],
 "metadata": {
  "kernelspec": {
   "display_name": "Python 3 (ipykernel)",
   "language": "python",
   "name": "python3"
  },
  "language_info": {
   "codemirror_mode": {
    "name": "ipython",
    "version": 3
   },
   "file_extension": ".py",
   "mimetype": "text/x-python",
   "name": "python",
   "nbconvert_exporter": "python",
   "pygments_lexer": "ipython3",
   "version": "3.9.7"
  }
 },
 "nbformat": 4,
 "nbformat_minor": 5
}
