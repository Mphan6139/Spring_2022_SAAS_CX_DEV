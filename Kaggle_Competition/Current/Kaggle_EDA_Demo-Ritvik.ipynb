{
  "nbformat": 4,
  "nbformat_minor": 0,
  "metadata": {
    "colab": {
      "name": "Kaggle EDA Demo.ipynb",
      "provenance": []
    },
    "kernelspec": {
      "name": "python3",
      "display_name": "Python 3"
    },
    "language_info": {
      "name": "python"
    }
  },
  "cells": [
    {
      "cell_type": "code",
      "execution_count": 2,
      "metadata": {
        "colab": {
          "base_uri": "https://localhost:8080/"
        },
        "id": "gf951CbOyz2p",
        "outputId": "d2186bfa-79c3-4d82-91a2-98ba9dd09df9"
      },
      "outputs": [
        {
          "output_type": "stream",
          "name": "stdout",
          "text": [
            "Mounted at /content/drive/\n"
          ]
        }
      ],
      "source": [
        "import pandas as pd \n",
        "import numpy as np\n",
        "import matplotlib.pyplot as plt\n",
        "from google.colab import drive \n",
        "drive.mount('/content/drive/', force_remount=True)"
      ]
    },
    {
      "cell_type": "code",
      "source": [
        "train = pd.read_csv('/content/drive/My Drive/Sp22 SAAS Education Committee/Notebooks/train.csv')\n",
        "train.head()"
      ],
      "metadata": {
        "colab": {
          "base_uri": "https://localhost:8080/",
          "height": 506
        },
        "id": "qvbDCYlby6Jh",
        "outputId": "c45eab0f-a7a1-4cbb-d865-d6860bfdde5b"
      },
      "execution_count": 3,
      "outputs": [
        {
          "output_type": "execute_result",
          "data": {
            "text/html": [
              "\n",
              "  <div id=\"df-c8ca3a7f-a192-4c06-92c2-ab5f755749f2\">\n",
              "    <div class=\"colab-df-container\">\n",
              "      <div>\n",
              "<style scoped>\n",
              "    .dataframe tbody tr th:only-of-type {\n",
              "        vertical-align: middle;\n",
              "    }\n",
              "\n",
              "    .dataframe tbody tr th {\n",
              "        vertical-align: top;\n",
              "    }\n",
              "\n",
              "    .dataframe thead th {\n",
              "        text-align: right;\n",
              "    }\n",
              "</style>\n",
              "<table border=\"1\" class=\"dataframe\">\n",
              "  <thead>\n",
              "    <tr style=\"text-align: right;\">\n",
              "      <th></th>\n",
              "      <th>Unnamed: 0</th>\n",
              "      <th>timestamp</th>\n",
              "      <th>company</th>\n",
              "      <th>level</th>\n",
              "      <th>title</th>\n",
              "      <th>totalyearlycompensation</th>\n",
              "      <th>location</th>\n",
              "      <th>yearsofexperience</th>\n",
              "      <th>yearsatcompany</th>\n",
              "      <th>tag</th>\n",
              "      <th>stockgrantvalue</th>\n",
              "      <th>bonus</th>\n",
              "      <th>gender</th>\n",
              "      <th>otherdetails</th>\n",
              "      <th>cityid</th>\n",
              "      <th>Masters_Degree</th>\n",
              "      <th>Bachelors_Degree</th>\n",
              "      <th>Doctorate_Degree</th>\n",
              "      <th>Highschool</th>\n",
              "      <th>Some_College</th>\n",
              "      <th>Race_Asian</th>\n",
              "      <th>Race_White</th>\n",
              "      <th>Race_Two_Or_More</th>\n",
              "      <th>Race_Black</th>\n",
              "      <th>Race_Hispanic</th>\n",
              "      <th>Race</th>\n",
              "      <th>Education</th>\n",
              "    </tr>\n",
              "  </thead>\n",
              "  <tbody>\n",
              "    <tr>\n",
              "      <th>0</th>\n",
              "      <td>0</td>\n",
              "      <td>3/28/2021 15:48:22</td>\n",
              "      <td>Ernst and Young</td>\n",
              "      <td>Senior Consultant</td>\n",
              "      <td>Management Consultant</td>\n",
              "      <td>135000</td>\n",
              "      <td>Atlanta, GA</td>\n",
              "      <td>2.0</td>\n",
              "      <td>0.0</td>\n",
              "      <td>Data &amp; Analytics Consulting</td>\n",
              "      <td>0.0</td>\n",
              "      <td>20000.0</td>\n",
              "      <td>Male</td>\n",
              "      <td>Title: Senior Consultant - Data &amp; Analytics, R...</td>\n",
              "      <td>7839</td>\n",
              "      <td>1</td>\n",
              "      <td>0</td>\n",
              "      <td>0</td>\n",
              "      <td>0</td>\n",
              "      <td>0</td>\n",
              "      <td>0</td>\n",
              "      <td>0</td>\n",
              "      <td>0</td>\n",
              "      <td>0</td>\n",
              "      <td>1</td>\n",
              "      <td>Hispanic</td>\n",
              "      <td>Master's Degree</td>\n",
              "    </tr>\n",
              "    <tr>\n",
              "      <th>1</th>\n",
              "      <td>1</td>\n",
              "      <td>4/3/2021 18:41:29</td>\n",
              "      <td>Deloitte</td>\n",
              "      <td>Senior Manager</td>\n",
              "      <td>Management Consultant</td>\n",
              "      <td>216000</td>\n",
              "      <td>Baltimore, MD</td>\n",
              "      <td>15.0</td>\n",
              "      <td>4.0</td>\n",
              "      <td>General</td>\n",
              "      <td>0.0</td>\n",
              "      <td>23000.0</td>\n",
              "      <td>NaN</td>\n",
              "      <td>Title: Supply Chain</td>\n",
              "      <td>8909</td>\n",
              "      <td>0</td>\n",
              "      <td>0</td>\n",
              "      <td>0</td>\n",
              "      <td>0</td>\n",
              "      <td>0</td>\n",
              "      <td>0</td>\n",
              "      <td>0</td>\n",
              "      <td>0</td>\n",
              "      <td>0</td>\n",
              "      <td>0</td>\n",
              "      <td>NaN</td>\n",
              "      <td>NaN</td>\n",
              "    </tr>\n",
              "    <tr>\n",
              "      <th>2</th>\n",
              "      <td>2</td>\n",
              "      <td>2/2/2021 13:05:18</td>\n",
              "      <td>Amazon</td>\n",
              "      <td>L4</td>\n",
              "      <td>Software Engineer</td>\n",
              "      <td>192000</td>\n",
              "      <td>New York, NY</td>\n",
              "      <td>2.0</td>\n",
              "      <td>0.0</td>\n",
              "      <td>API Development (Back-End)</td>\n",
              "      <td>29000.0</td>\n",
              "      <td>23000.0</td>\n",
              "      <td>Male</td>\n",
              "      <td>Title: Software Development Engineer, Race: Wh...</td>\n",
              "      <td>10182</td>\n",
              "      <td>0</td>\n",
              "      <td>1</td>\n",
              "      <td>0</td>\n",
              "      <td>0</td>\n",
              "      <td>0</td>\n",
              "      <td>0</td>\n",
              "      <td>1</td>\n",
              "      <td>0</td>\n",
              "      <td>0</td>\n",
              "      <td>0</td>\n",
              "      <td>White</td>\n",
              "      <td>Bachelor's Degree</td>\n",
              "    </tr>\n",
              "    <tr>\n",
              "      <th>3</th>\n",
              "      <td>3</td>\n",
              "      <td>7/19/2021 1:37:17</td>\n",
              "      <td>Oracle</td>\n",
              "      <td>IC-2</td>\n",
              "      <td>Software Engineer</td>\n",
              "      <td>235000</td>\n",
              "      <td>Redwood City, CA</td>\n",
              "      <td>1.0</td>\n",
              "      <td>1.0</td>\n",
              "      <td>Distributed Systems (Back-End)</td>\n",
              "      <td>65000.0</td>\n",
              "      <td>30000.0</td>\n",
              "      <td>Male</td>\n",
              "      <td>Title: Software Developer 2, Race: Asian, Acad...</td>\n",
              "      <td>7392</td>\n",
              "      <td>1</td>\n",
              "      <td>0</td>\n",
              "      <td>0</td>\n",
              "      <td>0</td>\n",
              "      <td>0</td>\n",
              "      <td>1</td>\n",
              "      <td>0</td>\n",
              "      <td>0</td>\n",
              "      <td>0</td>\n",
              "      <td>0</td>\n",
              "      <td>Asian</td>\n",
              "      <td>Master's Degree</td>\n",
              "    </tr>\n",
              "    <tr>\n",
              "      <th>4</th>\n",
              "      <td>4</td>\n",
              "      <td>3/29/2021 21:27:36</td>\n",
              "      <td>Wayfair</td>\n",
              "      <td>L3</td>\n",
              "      <td>Software Engineer</td>\n",
              "      <td>177000</td>\n",
              "      <td>Boston, MA</td>\n",
              "      <td>9.0</td>\n",
              "      <td>0.0</td>\n",
              "      <td>API Development (Back-End)</td>\n",
              "      <td>12000.0</td>\n",
              "      <td>15000.0</td>\n",
              "      <td>Male</td>\n",
              "      <td>$10k relocation, Title: Senior Software Engine...</td>\n",
              "      <td>8816</td>\n",
              "      <td>0</td>\n",
              "      <td>1</td>\n",
              "      <td>0</td>\n",
              "      <td>0</td>\n",
              "      <td>0</td>\n",
              "      <td>1</td>\n",
              "      <td>0</td>\n",
              "      <td>0</td>\n",
              "      <td>0</td>\n",
              "      <td>0</td>\n",
              "      <td>Asian</td>\n",
              "      <td>Bachelor's Degree</td>\n",
              "    </tr>\n",
              "  </tbody>\n",
              "</table>\n",
              "</div>\n",
              "      <button class=\"colab-df-convert\" onclick=\"convertToInteractive('df-c8ca3a7f-a192-4c06-92c2-ab5f755749f2')\"\n",
              "              title=\"Convert this dataframe to an interactive table.\"\n",
              "              style=\"display:none;\">\n",
              "        \n",
              "  <svg xmlns=\"http://www.w3.org/2000/svg\" height=\"24px\"viewBox=\"0 0 24 24\"\n",
              "       width=\"24px\">\n",
              "    <path d=\"M0 0h24v24H0V0z\" fill=\"none\"/>\n",
              "    <path d=\"M18.56 5.44l.94 2.06.94-2.06 2.06-.94-2.06-.94-.94-2.06-.94 2.06-2.06.94zm-11 1L8.5 8.5l.94-2.06 2.06-.94-2.06-.94L8.5 2.5l-.94 2.06-2.06.94zm10 10l.94 2.06.94-2.06 2.06-.94-2.06-.94-.94-2.06-.94 2.06-2.06.94z\"/><path d=\"M17.41 7.96l-1.37-1.37c-.4-.4-.92-.59-1.43-.59-.52 0-1.04.2-1.43.59L10.3 9.45l-7.72 7.72c-.78.78-.78 2.05 0 2.83L4 21.41c.39.39.9.59 1.41.59.51 0 1.02-.2 1.41-.59l7.78-7.78 2.81-2.81c.8-.78.8-2.07 0-2.86zM5.41 20L4 18.59l7.72-7.72 1.47 1.35L5.41 20z\"/>\n",
              "  </svg>\n",
              "      </button>\n",
              "      \n",
              "  <style>\n",
              "    .colab-df-container {\n",
              "      display:flex;\n",
              "      flex-wrap:wrap;\n",
              "      gap: 12px;\n",
              "    }\n",
              "\n",
              "    .colab-df-convert {\n",
              "      background-color: #E8F0FE;\n",
              "      border: none;\n",
              "      border-radius: 50%;\n",
              "      cursor: pointer;\n",
              "      display: none;\n",
              "      fill: #1967D2;\n",
              "      height: 32px;\n",
              "      padding: 0 0 0 0;\n",
              "      width: 32px;\n",
              "    }\n",
              "\n",
              "    .colab-df-convert:hover {\n",
              "      background-color: #E2EBFA;\n",
              "      box-shadow: 0px 1px 2px rgba(60, 64, 67, 0.3), 0px 1px 3px 1px rgba(60, 64, 67, 0.15);\n",
              "      fill: #174EA6;\n",
              "    }\n",
              "\n",
              "    [theme=dark] .colab-df-convert {\n",
              "      background-color: #3B4455;\n",
              "      fill: #D2E3FC;\n",
              "    }\n",
              "\n",
              "    [theme=dark] .colab-df-convert:hover {\n",
              "      background-color: #434B5C;\n",
              "      box-shadow: 0px 1px 3px 1px rgba(0, 0, 0, 0.15);\n",
              "      filter: drop-shadow(0px 1px 2px rgba(0, 0, 0, 0.3));\n",
              "      fill: #FFFFFF;\n",
              "    }\n",
              "  </style>\n",
              "\n",
              "      <script>\n",
              "        const buttonEl =\n",
              "          document.querySelector('#df-c8ca3a7f-a192-4c06-92c2-ab5f755749f2 button.colab-df-convert');\n",
              "        buttonEl.style.display =\n",
              "          google.colab.kernel.accessAllowed ? 'block' : 'none';\n",
              "\n",
              "        async function convertToInteractive(key) {\n",
              "          const element = document.querySelector('#df-c8ca3a7f-a192-4c06-92c2-ab5f755749f2');\n",
              "          const dataTable =\n",
              "            await google.colab.kernel.invokeFunction('convertToInteractive',\n",
              "                                                     [key], {});\n",
              "          if (!dataTable) return;\n",
              "\n",
              "          const docLinkHtml = 'Like what you see? Visit the ' +\n",
              "            '<a target=\"_blank\" href=https://colab.research.google.com/notebooks/data_table.ipynb>data table notebook</a>'\n",
              "            + ' to learn more about interactive tables.';\n",
              "          element.innerHTML = '';\n",
              "          dataTable['output_type'] = 'display_data';\n",
              "          await google.colab.output.renderOutput(dataTable, element);\n",
              "          const docLink = document.createElement('div');\n",
              "          docLink.innerHTML = docLinkHtml;\n",
              "          element.appendChild(docLink);\n",
              "        }\n",
              "      </script>\n",
              "    </div>\n",
              "  </div>\n",
              "  "
            ],
            "text/plain": [
              "   Unnamed: 0           timestamp  ...      Race          Education\n",
              "0           0  3/28/2021 15:48:22  ...  Hispanic    Master's Degree\n",
              "1           1   4/3/2021 18:41:29  ...       NaN                NaN\n",
              "2           2   2/2/2021 13:05:18  ...     White  Bachelor's Degree\n",
              "3           3   7/19/2021 1:37:17  ...     Asian    Master's Degree\n",
              "4           4  3/29/2021 21:27:36  ...     Asian  Bachelor's Degree\n",
              "\n",
              "[5 rows x 27 columns]"
            ]
          },
          "metadata": {},
          "execution_count": 3
        }
      ]
    },
    {
      "cell_type": "markdown",
      "source": [
        "## Average Salary by Company\n",
        "\n"
      ],
      "metadata": {
        "id": "F1Skalo1z8-G"
      }
    },
    {
      "cell_type": "markdown",
      "source": [
        "### Top Average Salary"
      ],
      "metadata": {
        "id": "0TX3I9jX1pd6"
      }
    },
    {
      "cell_type": "code",
      "source": [
        "top_position_salary = train.groupby('company').agg(np.mean)[['totalyearlycompensation']].reset_index().sort_values('totalyearlycompensation', ascending=False).iloc[0:10, :]\n",
        "plt.barh(top_position_salary['company'], top_position_salary['totalyearlycompensation']); "
      ],
      "metadata": {
        "colab": {
          "base_uri": "https://localhost:8080/",
          "height": 278
        },
        "id": "uWEFBg2HzUJj",
        "outputId": "d28c827f-584e-40ce-fd67-037ee9d514f6"
      },
      "execution_count": 4,
      "outputs": [
        {
          "output_type": "display_data",
          "data": {
            "image/png": "[encoded data removed]",
            "text/plain": [
              "<Figure size 432x288 with 1 Axes>"
            ]
          },
          "metadata": {
            "needs_background": "light"
          }
        }
      ]
    },
    {
      "cell_type": "markdown",
      "source": [
        "### Lowest Average Salary"
      ],
      "metadata": {
        "id": "IMW-a_Oe2Csg"
      }
    },
    {
      "cell_type": "code",
      "source": [
        "bot_position_salary = train.groupby('company').agg(np.mean)[['totalyearlycompensation']].reset_index().sort_values('totalyearlycompensation').iloc[0:10, :]\n",
        "plt.barh(bot_position_salary['company'], bot_position_salary['totalyearlycompensation']); "
      ],
      "metadata": {
        "colab": {
          "base_uri": "https://localhost:8080/",
          "height": 265
        },
        "id": "CozaB9lX0IQD",
        "outputId": "fcd42299-76d6-4964-854a-91a428c776f0"
      },
      "execution_count": 5,
      "outputs": [
        {
          "output_type": "display_data",
          "data": {
            "image/png": "[encoded data removed]",
            "text/plain": [
              "<Figure size 432x288 with 1 Axes>"
            ]
          },
          "metadata": {
            "needs_background": "light"
          }
        }
      ]
    },
    {
      "cell_type": "markdown",
      "source": [
        "## Average Salary by Location"
      ],
      "metadata": {
        "id": "KcC4wgJP5QHa"
      }
    },
    {
      "cell_type": "markdown",
      "source": [
        "### Top Average Salary by Location"
      ],
      "metadata": {
        "id": "98-HBnKO5Xg9"
      }
    },
    {
      "cell_type": "code",
      "source": [
        "top_location_salary = train.groupby('location').agg(np.mean)[['totalyearlycompensation']].reset_index().sort_values('totalyearlycompensation', ascending=False).iloc[0:10, :]\n",
        "plt.barh(top_location_salary['location'], top_position_salary['totalyearlycompensation']); "
      ],
      "metadata": {
        "colab": {
          "base_uri": "https://localhost:8080/",
          "height": 278
        },
        "id": "bUqfwGN32Lsi",
        "outputId": "35c58236-d15d-4f6b-b9a1-9a40556e96c7"
      },
      "execution_count": 6,
      "outputs": [
        {
          "output_type": "display_data",
          "data": {
            "image/png": "[encoded data removed]",
            "text/plain": [
              "<Figure size 432x288 with 1 Axes>"
            ]
          },
          "metadata": {
            "needs_background": "light"
          }
        }
      ]
    },
    {
      "cell_type": "markdown",
      "source": [
        "### Lowest Average Salary by Location"
      ],
      "metadata": {
        "id": "LC0OwWo15Xjm"
      }
    },
    {
      "cell_type": "code",
      "source": [
        "bot_location_salary = train.groupby('location').agg(np.mean)[['totalyearlycompensation']].reset_index().sort_values('totalyearlycompensation').iloc[0:10, :]\n",
        "plt.barh(bot_location_salary['location'], bot_location_salary['totalyearlycompensation']); "
      ],
      "metadata": {
        "colab": {
          "base_uri": "https://localhost:8080/",
          "height": 265
        },
        "id": "OQj6MAY15Y2-",
        "outputId": "c10278aa-a6ce-4fd2-ca16-404ff45e04b4"
      },
      "execution_count": 8,
      "outputs": [
        {
          "output_type": "display_data",
          "data": {
            "image/png": "[encoded data removed]",
            "text/plain": [
              "<Figure size 432x288 with 1 Axes>"
            ]
          },
          "metadata": {
            "needs_background": "light"
          }
        }
      ]
    },
    {
      "cell_type": "markdown",
      "source": [
        "## Average Salary by Education"
      ],
      "metadata": {
        "id": "fYjuvYRS6e3a"
      }
    },
    {
      "cell_type": "code",
      "source": [
        "education_salary = train.groupby('Education').agg(np.mean)[['totalyearlycompensation']].reset_index().sort_values('totalyearlycompensation')\n",
        "plt.barh(education_salary['Education'], education_salary['totalyearlycompensation']); "
      ],
      "metadata": {
        "colab": {
          "base_uri": "https://localhost:8080/",
          "height": 265
        },
        "id": "D0KBX8RL6fMM",
        "outputId": "2c2b443a-174f-4018-ff8c-2c5dbe02089c"
      },
      "execution_count": 9,
      "outputs": [
        {
          "output_type": "display_data",
          "data": {
            "image/png": "[encoded data removed]",
            "text/plain": [
              "<Figure size 432x288 with 1 Axes>"
            ]
          },
          "metadata": {
            "needs_background": "light"
          }
        }
      ]
    },
    {
      "cell_type": "markdown",
      "source": [
        "## Relationship between Years of Experience and Average Salary "
      ],
      "metadata": {
        "id": "NqTpV7eR64FL"
      }
    },
    {
      "cell_type": "code",
      "source": [
        "yoe_salary = train[['yearsofexperience', 'totalyearlycompensation']]\n",
        "plt.scatter(yoe_salary['yearsofexperience'], yoe_salary['totalyearlycompensation']);"
      ],
      "metadata": {
        "colab": {
          "base_uri": "https://localhost:8080/",
          "height": 276
        },
        "id": "JjpYzVTB6tE_",
        "outputId": "192ff933-207c-450e-83db-7c91f348595e"
      },
      "execution_count": 11,
      "outputs": [
        {
          "output_type": "display_data",
          "data": {
            "image/png": "[encoded data removed]",
            "text/plain": [
              "<Figure size 432x288 with 1 Axes>"
            ]
          },
          "metadata": {
            "needs_background": "light"
          }
        }
      ]
    },
    {
      "cell_type": "code",
      "source": [
        "yoe_salary_means = train[['yearsofexperience', 'totalyearlycompensation']].groupby('yearsofexperience').mean().reset_index()\n",
        "plt.scatter(yoe_salary_means['yearsofexperience'], yoe_salary_means['totalyearlycompensation']);"
      ],
      "metadata": {
        "colab": {
          "base_uri": "https://localhost:8080/",
          "height": 265
        },
        "id": "udTEs5-D7Sew",
        "outputId": "660feaac-72ab-42d8-f115-8ca7dda6adec"
      },
      "execution_count": 14,
      "outputs": [
        {
          "output_type": "display_data",
          "data": {
            "image/png": "[encoded data removed]",
            "text/plain": [
              "<Figure size 432x288 with 1 Axes>"
            ]
          },
          "metadata": {
            "needs_background": "light"
          }
        }
      ]
    },
    {
      "cell_type": "markdown",
      "source": [
        "## Relationship between Stock Grants and Yearly Compensation"
      ],
      "metadata": {
        "id": "8e7NeODa8BTD"
      }
    },
    {
      "cell_type": "code",
      "source": [
        "stocks_ytc = train[['stockgrantvalue', 'totalyearlycompensation']]\n",
        "plt.scatter(stocks_ytc['stockgrantvalue'], stocks_ytc['totalyearlycompensation']);"
      ],
      "metadata": {
        "colab": {
          "base_uri": "https://localhost:8080/",
          "height": 289
        },
        "id": "3HGnkzKE7cn-",
        "outputId": "57bc5eb0-c05a-4112-d648-b4bec2c8e74a"
      },
      "execution_count": 16,
      "outputs": [
        {
          "output_type": "display_data",
          "data": {
            "image/png": "[encoded data removed]",
            "text/plain": [
              "<Figure size 432x288 with 1 Axes>"
            ]
          },
          "metadata": {
            "needs_background": "light"
          }
        }
      ]
    },
    {
      "cell_type": "code",
      "source": [
        "stocks_ytc_means = train[['stockgrantvalue', 'totalyearlycompensation']].groupby('stockgrantvalue').mean().reset_index()\n",
        "plt.scatter(stocks_ytc_means['stockgrantvalue'], stocks_ytc_means['totalyearlycompensation']);"
      ],
      "metadata": {
        "colab": {
          "base_uri": "https://localhost:8080/",
          "height": 289
        },
        "id": "sSF-MeAS8Ud6",
        "outputId": "5e3fc25e-7469-44aa-e68f-179e37a4fda8"
      },
      "execution_count": 17,
      "outputs": [
        {
          "output_type": "display_data",
          "data": {
            "image/png": "[encoded data removed]",
            "text/plain": [
              "<Figure size 432x288 with 1 Axes>"
            ]
          },
          "metadata": {
            "needs_background": "light"
          }
        }
      ]
    }
  ]
}