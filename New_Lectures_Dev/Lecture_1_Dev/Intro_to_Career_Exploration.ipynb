{
 "cells": [
  {
   "cell_type": "markdown",
   "source": [
    "# Lecture 1: Introduction to Datahub and Jupyter\n",
    "## 18 Sep 2021\n",
    "\n",
    "### Table Of Contents\n",
    "* [Introduction](#section1)\n",
    "* [What will we learn?](#section2)\n",
    "* [Homework and Submissions](#section3)\n",
    "\n",
    "\n",
    "### Hosted by and maintained by the [Student Association for Applied Statistics (SAAS)](https://saas.berkeley.edu). \n"
   ],
   "metadata": {
    "id": "Lv3-OJS5MpCc"
   }
  },
  {
   "cell_type": "markdown",
   "source": [
    "\n",
    "![Juptyer Imagge](https://jupyter.org/assets/homepage.png)"
   ],
   "metadata": {
    "id": "VGnKyTZa2k7V"
   }
  },
  {
   "cell_type": "markdown",
   "source": [
    "<a id='section1'></a>\n",
    "# Introduction\n",
    "Hello! Welcome to Career Exploration Fall 2021!\n",
    "\n",
    "This is just an introductory notebook for practice working with datahub and discussing the semester schedule. \n",
    "\n",
    "Datahub is a fantastic resource as it allows us to utilize python and common packages without needing to install a bunch of stuff and having that break.\n",
    "\n",
    "Run the code chunk below by clicking on it and pressing `shift enter` (or `shift return`) on mac. These are all common packages we will import throughout the semesters."
   ],
   "metadata": {
    "id": "0PaIXRzSMpCd"
   }
  },
  {
   "cell_type": "code",
   "execution_count": null,
   "source": [
    "import pandas as pd\r\n",
    "import numpy as np\r\n",
    "from sklearn.linear_model import LinearRegression\r\n",
    "import matplotlib.pyplot as plt\r\n",
    "%matplotlib inline"
   ],
   "outputs": [],
   "metadata": {
    "id": "Is-cQU9wMpCe"
   }
  },
  {
   "cell_type": "markdown",
   "source": [
    "Ordinarily you would need to install python as well as all the packages and then sometimes stuff doesn't work. This usually causes many problems with differing versions and installation issues. Datahub bypasses all of these by providing a environment you can use online! \n",
    "\n",
    "### Steps to download from Slack and unzip on Datahub.         \n",
    "1. Make sure you are in the slack workspace, navigate to the **career-exploration-Fall2021** channel \n",
    "2. Download the LectureX.zip file\n",
    "1. Open datahub at http://datahub.berkeley.edu/ and log in with your berkeley account\n",
    "2. Click upload at the top right\n",
    "3. Upload LectureX.zip (X represents the lecture number, for example Lecture1.zip)\n",
    "4. Select 'new' at the top right of the datahub screen, and select terminal from the drop down\n",
    "5. Enter \"unzip LectureX.zip\"\n",
    "  * `unzip LectureX.zip`\n",
    "6. Open the LectureX folder and open the ipynb file inside the LectureX folder\n",
    "\n",
    "\n",
    "Our main source of file sharing will be uploading to slack. Remember to upload the entire zip file to Datahub and unzip. "
   ],
   "metadata": {
    "id": "W-LRL8kmMpCj"
   }
  },
  {
   "cell_type": "markdown",
   "source": [
    "<a id='section2'></a>\r\n",
    "# What will we learn?\r\n",
    "\r\n",
    "This semester will go over many topics on a relatively high level. We begin with introducing jupyter notebooks (what you are reading from right now!) and use these to teach most of our lectures. Jupyter notebooks are incredibly useful as they allow you to run separate chunks of code at a time, without having to run the entire program at once.\r\n",
    "\r\n",
    "We aim to go through the following topics for the semester.\r\n",
    "\r\n",
    "<table class=\"table table-bordered table-hover table-condensed\">\r\n",
    "<thead><tr><th title=\"Field #1\">Date</th>\r\n",
    "<th title=\"Field #2\">Lecture</th>\r\n",
    "</tr></thead>\r\n",
    "<tbody><tr>\r\n",
    "<td>9/18</td>\r\n",
    "<td>L1 Software and Logistics</td>\r\n",
    "</tr>\r\n",
    "<tr>\r\n",
    "<td>9/25</td>\r\n",
    "<td>L2 Python (Asynchrous)</td>\r\n",
    "</tr>\r\n",
    "<tr>\r\n",
    "<td>10/02</td>\r\n",
    "<td>L3 Numpy/Pandas</td>\r\n",
    "</tr>\r\n",
    "<tr>\r\n",
    "<td>10/9</td>\r\n",
    "<td>L4 Visualizations and Data Cleaning</td>\r\n",
    "</tr>\r\n",
    "<tr>\r\n",
    "<td>10/16</td>\r\n",
    "<td>L5 Statistics for Data Science</td>\r\n",
    "</tr>\r\n",
    "<tr>\r\n",
    "<td>10/23</td>\r\n",
    "<td>L6 Intro to Linear Algebra for Data Science</td>\r\n",
    "</tr>\r\n",
    "<tr>\r\n",
    "<td>10/30</td>\r\n",
    "<td>L7 Application of Math+Stats(Simple Linear Regression)</td>\r\n",
    "</tr>\r\n",
    "<tr>\r\n",
    "<td>11/6</td>\r\n",
    "<td>L8 Application of Math+Stats(Continued)</td>\r\n",
    "</tr>\r\n",
    "<tr>\r\n",
    "<td>11/13</td>\r\n",
    "<td>L9 Classification, Logistic Regression(Kaggle starts)</td>\r\n",
    "</tr>\r\n",
    "<tr>\r\n",
    "<td>11/20</td>\r\n",
    "<td>L10 Decision Trees, Random Forest, KNN</td>\r\n",
    "</tr>\r\n",
    "</tbody></table>\r\n",
    "\r\n",
    "As you can see, the semester is packed full of various concepts, from statistical ideas such as bias and variance to machine learning concepts like neural networks and decision trees.\r\n",
    "\r\n",
    "The semester is structured so that you will be able to accumulate foundational skills, learn more advanced concepts, and apply them to a final Kaggle competition. \r\n",
    "\r\n",
    "The course material is being written by our lovely Education committee! You will get to meet them over the course of the semester as we are rotating lecturers.\r\n",
    "\r\n",
    "This schedule is quite ambitious and fast paced as it aims to cover a very large amount of material. \r\n",
    "\r\n",
    "**Please let us know if you ever have feedback, have questions, or you are just looking for some more help! We are all happy to help out. You can always reach us over slack.**\r\n",
    "\r\n",
    "**This material is hard!**\r\n",
    "\r\n",
    "We also hold many workshops and socials over the semester! We hope that you are all able to come participate and have a great time!"
   ],
   "metadata": {
    "id": "i4kdOa2VMpCj"
   }
  },
  {
   "cell_type": "markdown",
   "source": [
    "<a id='section3'></a>\n",
    "# Project Checkpoint Submissions"
   ],
   "metadata": {
    "id": "QIq_AGu7MpCk"
   }
  },
  {
   "cell_type": "markdown",
   "source": [
    "This semester we are going to split up the Final Project into several checkpoints as opposed to having weekly homework assignments. This helps create a fun and low stress way of staying on top of the material! \n",
    "\n",
    "FINAL CHECKPOINT: The Friday before dead week (12/3)\n"
   ],
   "metadata": {
    "id": "yC2g74WxMpCl"
   }
  },
  {
   "cell_type": "markdown",
   "source": [
    "<a id='section3'></a>\n",
    "# Datahub Guide"
   ],
   "metadata": {}
  },
  {
   "cell_type": "markdown",
   "source": [
    "Datahub will be the place where all your code will reside. In some ways this is your development environment! You should always be familiar with the environment you program in, and here are some exercises to help you get started!"
   ],
   "metadata": {}
  },
  {
   "cell_type": "markdown",
   "source": [
    "**Double click** a cell to edit the contents. \n",
    "\n",
    "There are two main kinds of cellswe will be expecting you to know, Markdown and Code. \n",
    "You can run a cell by pressing **ctrl-enter**.\n",
    "Code: Really self explanitory. This is where your code is stored.\n",
    "Markdown: All the text stuff. There is also some latex integration! w $\\alpha$ o! Just put $ around your markdown code."
   ],
   "metadata": {}
  },
  {
   "cell_type": "markdown",
   "source": [
    "The **kernal** is something you find might crash a lot in the future. If the kernal does not work, your code does not work. Look at the top right of the notebook to see the status of the kernal.\n",
    "\n",
    "As the wise IT guys always say, try turning it off and on again if it doesn't work. To restart the kernal, try to find the \"kernal\" section near the top left of the notebook. This should be in the dropdown menu.\n",
    "\n",
    "The **toolbar** at the top of the notebook also holds some pretty useful tools! "
   ],
   "metadata": {}
  },
  {
   "cell_type": "markdown",
   "source": [
    "<h3>Q1</h3>\n",
    "\n",
    "Look in the toolbar an try to find the **Run All Above** command. "
   ],
   "metadata": {}
  },
  {
   "cell_type": "markdown",
   "source": [
    "What folder is it in? _________"
   ],
   "metadata": {}
  },
  {
   "cell_type": "markdown",
   "source": [
    "<h3> Q2 </h3>\n",
    "\n",
    "Delete the cell below"
   ],
   "metadata": {}
  },
  {
   "cell_type": "markdown",
   "source": [
    "*DELETE ME PLEASE*"
   ],
   "metadata": {}
  },
  {
   "cell_type": "markdown",
   "source": [
    "<h3> Q3 </h3>\n",
    "\n",
    "**In the cell below, write a number 1 to 100 inclusive.**"
   ],
   "metadata": {
    "id": "B8HG5WHPMpCo"
   }
  },
  {
   "cell_type": "markdown",
   "source": [
    "*Make me a number*"
   ],
   "metadata": {
    "id": "pyoBMGmsMpCo",
    "tags": [
     "number"
    ]
   }
  },
  {
   "cell_type": "markdown",
   "source": [
    "<h3> Q4 </h3>\n",
    "\n",
    "In the cells below, write your name, major, a fun fact about yourself, a short game, and a quick survey. Make sure to hit Save (File > Save and Checkpoint) or Ctrl/Command-S after you've finished writing. "
   ],
   "metadata": {
    "id": "Ij5xYSFQMpCl"
   }
  },
  {
   "cell_type": "markdown",
   "source": [
    "**Name**: "
   ],
   "metadata": {
    "id": "26G0VoLAMpCm",
    "tags": [
     "name"
    ]
   }
  },
  {
   "cell_type": "markdown",
   "source": [
    "**Major**: "
   ],
   "metadata": {
    "id": "M7I8L8U1MpCn",
    "tags": [
     "major"
    ]
   }
  },
  {
   "cell_type": "markdown",
   "source": [
    "**Fun Fact**: "
   ],
   "metadata": {
    "id": "ds6g0-WhMpCn",
    "tags": [
     "fun-fact"
    ]
   }
  },
  {
   "cell_type": "markdown",
   "source": [
    "<h3> Q5 </h3>\n",
    "\n",
    "Run the cell below to make sure everything runs fine. "
   ],
   "metadata": {
    "id": "UUjnSDTBMpCu"
   }
  },
  {
   "cell_type": "code",
   "execution_count": null,
   "source": [
    "func = lambda x: 4*x+2\r\n",
    "samples = 100\r\n",
    "data_range = [0, 1]\r\n",
    "\r\n",
    "\r\n",
    "x = np.random.uniform(data_range[0], data_range[1], (samples, 1))\r\n",
    "y = func(x) + np.random.normal(scale=3, size=(samples, 1))\r\n",
    "model = LinearRegression().fit(x, y)\r\n",
    "predictions = model.predict(np.array(data_range).reshape(-1, 1))\r\n",
    "\r\n",
    "\r\n",
    "fig, ax = plt.subplots(figsize=(12, 8))\r\n",
    "plt.scatter(x, y)\r\n",
    "plt.plot(data_range, list(map(func, data_range)), label=\"Truth\")\r\n",
    "plt.plot(data_range, predictions, label=\"Prediction\")\r\n",
    "plt.xlabel(\"X\")\r\n",
    "plt.ylabel(\"Y\")\r\n",
    "plt.title(\"Linear regression\")\r\n",
    "plt.legend()\r\n",
    "plt.show()"
   ],
   "outputs": [],
   "metadata": {
    "id": "YSomUDtZMpCv"
   }
  }
 ],
 "metadata": {
  "colab": {
   "name": "Intro to Career Exploration.ipynb",
   "provenance": []
  },
  "kernelspec": {
   "display_name": "Python 3 (ipykernel)",
   "language": "python",
   "name": "python3"
  },
  "language_info": {
   "codemirror_mode": {
    "name": "ipython",
    "version": 3
   },
   "file_extension": ".py",
   "mimetype": "text/x-python",
   "name": "python",
   "nbconvert_exporter": "python",
   "pygments_lexer": "ipython3",
   "version": "3.9.7"
  }
 },
 "nbformat": 4,
 "nbformat_minor": 1
}