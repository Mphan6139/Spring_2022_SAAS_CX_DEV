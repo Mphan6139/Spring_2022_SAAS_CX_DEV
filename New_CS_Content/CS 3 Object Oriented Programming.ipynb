{
 "cells": [
  {
   "cell_type": "markdown",
   "id": "b479a31e",
   "metadata": {},
   "source": [
    "# [CS Series] Lecture 3: Object Oriented Programming\n",
    "### May 6, 2022\n",
    "Lecture created by: Kavin Suresh and Chinmay Gharpure\n",
    "\n",
    "### Table Of Contents\n",
    "* [Classes](#Classes)\n",
    "* [Init](#Init)\n",
    "* [Methods](#Methods)\n",
    "* [Practice: Classes, Init, Methods](#Practice)\n",
    "* [Self](#Self)\n",
    "* [Class + Instance Attributes](#ClassInstance)\n",
    "    * [Creating Class Instances](#create)\n",
    "    * [Accessing Class Instances](#access)\n",
    "    * [Instance Methods](#Instance)\n",
    "* [Parent vs. Child Classes](#ParentChild)"
   ]
  },
  {
   "cell_type": "markdown",
   "id": "39dd0e2c",
   "metadata": {},
   "source": [
    "<a id='Classes'></a>\n",
    "\n",
    "# 1. Classes \n",
    "\n",
    "## What are classes?\n",
    "\n",
    "Python has simple data structures coded in, such as numbers or strings. Classes are a way to represent more complicated data structures that may have many attributes or certain functions needed.\n",
    "\n",
    "An example could be a fruit class. It can't be represented by a single string or number. Even a list would be a bit complicated. By using a class, we can set it to have many attributes. Some examples are: fruit name, calories, or sourness level (1-10).\n",
    "\n",
    "Now, let us create a fruit class! Below we can create an empty fruit class that is able to be instantiated."
   ]
  },
  {
   "cell_type": "code",
   "execution_count": 1,
   "id": "14c96270",
   "metadata": {},
   "outputs": [],
   "source": [
    "class Fruit():\n",
    "    pass"
   ]
  },
  {
   "cell_type": "markdown",
   "id": "5415a9a9",
   "metadata": {},
   "source": [
    "Now, let us instantiate it."
   ]
  },
  {
   "cell_type": "code",
   "execution_count": 2,
   "id": "094476ed",
   "metadata": {},
   "outputs": [
    {
     "data": {
      "text/plain": [
       "<__main__.Fruit at 0x7fa520e90730>"
      ]
     },
     "execution_count": 2,
     "metadata": {},
     "output_type": "execute_result"
    }
   ],
   "source": [
    "Fruit()"
   ]
  },
  {
   "cell_type": "markdown",
   "id": "84008347",
   "metadata": {},
   "source": [
    "Wow! We now have a fruit class. It can't do anything, but it certainly is a class and we certainly have instantiated it."
   ]
  },
  {
   "cell_type": "markdown",
   "id": "4a760b80",
   "metadata": {},
   "source": [
    "This is cool and all, but we probably want to do more than just have an empty class.\n",
    "\n",
    "This is where __init__ comes in!"
   ]
  },
  {
   "cell_type": "markdown",
   "id": "6ec94283",
   "metadata": {},
   "source": [
    "<a id='Init'></a>\n",
    "\n",
    "# 2. Init \n",
    "\n",
    "## What is init?\n",
    "\n",
    "Init is a method that defines all the attributes that our class will have. By adding it, we can make sure our class has attributes upon being instantiated. It is created as part of the class definition.\n",
    "\n",
    "Below is an example of a red fruit class that includes the init method. It is important to include self as the first argument of the __init__ method. The rest of the arguments are user-inputted attributes when the class is instantiated.\n",
    "\n",
    "We will use fruit names, calories, and sourness levels (1-10) as user-inputted attributes. However, we will make the color attribute to always default to \"red\" due to this being the redFruit class."
   ]
  },
  {
   "cell_type": "code",
   "execution_count": 3,
   "id": "2c7231ce",
   "metadata": {},
   "outputs": [],
   "source": [
    "class redFruit():\n",
    "    def __init__(self, fruitName, calories, sournessLevel):\n",
    "        self.fruitName = fruitName\n",
    "        self.calories = calories\n",
    "        self.sournessLevel = sournessLevel\n",
    "        self.color = \"red\""
   ]
  },
  {
   "cell_type": "markdown",
   "id": "91fc433f",
   "metadata": {},
   "source": [
    "Now, let us try making an example redFruit class by instantiating it and assigning it to a variable"
   ]
  },
  {
   "cell_type": "code",
   "execution_count": 6,
   "id": "21255bdb",
   "metadata": {},
   "outputs": [],
   "source": [
    "strawberry = redFruit(\"Strawberry\", 15, 7)"
   ]
  },
  {
   "cell_type": "markdown",
   "id": "434a15c6",
   "metadata": {},
   "source": [
    "Let us call some of these attributes we defined to the redFruit class strawberry variable and see how it works!"
   ]
  },
  {
   "cell_type": "code",
   "execution_count": 7,
   "id": "bdaf7a6a",
   "metadata": {},
   "outputs": [
    {
     "data": {
      "text/plain": [
       "'Strawberry'"
      ]
     },
     "execution_count": 7,
     "metadata": {},
     "output_type": "execute_result"
    }
   ],
   "source": [
    "strawberry.fruitName"
   ]
  },
  {
   "cell_type": "code",
   "execution_count": 8,
   "id": "12e7a44d",
   "metadata": {},
   "outputs": [
    {
     "data": {
      "text/plain": [
       "15"
      ]
     },
     "execution_count": 8,
     "metadata": {},
     "output_type": "execute_result"
    }
   ],
   "source": [
    "strawberry.calories"
   ]
  },
  {
   "cell_type": "code",
   "execution_count": 9,
   "id": "d912f700",
   "metadata": {},
   "outputs": [
    {
     "data": {
      "text/plain": [
       "7"
      ]
     },
     "execution_count": 9,
     "metadata": {},
     "output_type": "execute_result"
    }
   ],
   "source": [
    "strawberry.sournessLevel"
   ]
  },
  {
   "cell_type": "code",
   "execution_count": 10,
   "id": "46987220",
   "metadata": {},
   "outputs": [
    {
     "data": {
      "text/plain": [
       "'red'"
      ]
     },
     "execution_count": 10,
     "metadata": {},
     "output_type": "execute_result"
    }
   ],
   "source": [
    "strawberry.color"
   ]
  },
  {
   "cell_type": "markdown",
   "id": "7582bc7b",
   "metadata": {},
   "source": [
    "Amazing! We now have a data structure that can represent red fruits within Python? But if we want to get more complicated and perform operations on these classes?\n",
    "\n",
    "This is where methods come in."
   ]
  },
  {
   "cell_type": "markdown",
   "id": "ce08c3d3",
   "metadata": {},
   "source": [
    "<a id='Methods'></a>\n",
    "\n",
    "# 3. Methods \n",
    "\n",
    "## What are methods?\n",
    "\n",
    "Methods are functions that are defined within a class and callable by that class. It allows for operations on the class to be performed. We already saw an example in __init__. Other methods follow a similar structure, where self is the first argument and attributes of the class are called using self.[attribute name]."
   ]
  },
  {
   "cell_type": "markdown",
   "id": "747af627",
   "metadata": {},
   "source": [
    "Let us create a class method for the redFruits class!\n",
    "\n",
    "This new method will be called addChocolate. It will change the name of the fruit to be \"Chocolate [fruitName]\", increase calories by 40, decrease sournessLevel by 3, and change the color to brown/red. Finally, it will return a string that says \"[fruitName] has been chocolatified!\" We will call upon the old attributes by using self.[attribute name]."
   ]
  },
  {
   "cell_type": "code",
   "execution_count": 11,
   "id": "ab7637a7",
   "metadata": {},
   "outputs": [],
   "source": [
    "class redFruit():\n",
    "    def __init__(self, fruitName, calories, sournessLevel):\n",
    "        self.fruitName = fruitName\n",
    "        self.calories = calories\n",
    "        self.sournessLevel = sournessLevel\n",
    "        self.color = \"red\"\n",
    "    \n",
    "    def addChocolate(self):\n",
    "        self.fruitName = \"Chocolate \" + self.fruitName\n",
    "        self.calories = self.calories + 40\n",
    "        self.sournessLevel = self.sournessLevel - 3\n",
    "        self.color = \"brown/red\"\n",
    "        return f\"{self.fruitName} has been chocolatified!\""
   ]
  },
  {
   "cell_type": "markdown",
   "id": "022ea46f",
   "metadata": {},
   "source": [
    "Now, let us test it.\n",
    "\n",
    "First let us instantiate a member of the redFruit class."
   ]
  },
  {
   "cell_type": "code",
   "execution_count": 12,
   "id": "6ce90b8e",
   "metadata": {},
   "outputs": [],
   "source": [
    "strawberry = redFruit(\"Strawberry\", 15, 7)"
   ]
  },
  {
   "cell_type": "markdown",
   "id": "f03322a5",
   "metadata": {},
   "source": [
    "Now, let us call the \"addChocolate\" method. We will do this by using the variable we assigned the class to, strawberry, and using a . followed by the method name."
   ]
  },
  {
   "cell_type": "code",
   "execution_count": 13,
   "id": "40883352",
   "metadata": {},
   "outputs": [
    {
     "data": {
      "text/plain": [
       "'Chocolate Strawberry has been chocolatified!'"
      ]
     },
     "execution_count": 13,
     "metadata": {},
     "output_type": "execute_result"
    }
   ],
   "source": [
    "strawberry.addChocolate()"
   ]
  },
  {
   "cell_type": "markdown",
   "id": "20f33cee",
   "metadata": {},
   "source": [
    "Wow, it looks like the string has been returned. Have the attributes changed?"
   ]
  },
  {
   "cell_type": "code",
   "execution_count": 17,
   "id": "612e605a",
   "metadata": {},
   "outputs": [
    {
     "data": {
      "text/plain": [
       "'Chocolate Strawberry'"
      ]
     },
     "execution_count": 17,
     "metadata": {},
     "output_type": "execute_result"
    }
   ],
   "source": [
    "strawberry.fruitName"
   ]
  },
  {
   "cell_type": "code",
   "execution_count": 18,
   "id": "51cc0474",
   "metadata": {},
   "outputs": [
    {
     "data": {
      "text/plain": [
       "55"
      ]
     },
     "execution_count": 18,
     "metadata": {},
     "output_type": "execute_result"
    }
   ],
   "source": [
    "strawberry.calories"
   ]
  },
  {
   "cell_type": "code",
   "execution_count": 19,
   "id": "c0cd684b",
   "metadata": {},
   "outputs": [
    {
     "data": {
      "text/plain": [
       "4"
      ]
     },
     "execution_count": 19,
     "metadata": {},
     "output_type": "execute_result"
    }
   ],
   "source": [
    "strawberry.sournessLevel"
   ]
  },
  {
   "cell_type": "code",
   "execution_count": 20,
   "id": "14d4dd24",
   "metadata": {},
   "outputs": [
    {
     "data": {
      "text/plain": [
       "'brown/red'"
      ]
     },
     "execution_count": 20,
     "metadata": {},
     "output_type": "execute_result"
    }
   ],
   "source": [
    "strawberry.color"
   ]
  },
  {
   "cell_type": "markdown",
   "id": "26694aca",
   "metadata": {},
   "source": [
    "Hallelujah! It looks like it all worked!"
   ]
  },
  {
   "cell_type": "markdown",
   "id": "89c6c0b7",
   "metadata": {},
   "source": [
    "<a id='Practice'></a>\n",
    "\n",
    "# 4. Practice: Classes, Init, Methods\n",
    "\n",
    "## Your turn!\n",
    "\n",
    "Use what you have just learned about classes, init, and methods to make what is described below.\n",
    "\n",
    "You are a horribily disorganized zookeeper who keeps track of your animals via lists. Ew gross, no more! You decide to use classes to organize your animals and their attributes. Make an animal class. When it is instantiated, the user should input its animal name, natural habitat, whether it is an herbivore, carnivore, or omnivcore. It should also have a boolean alive attribute that is default \"True\" without user input. Finally, make a method called kill() within the class that changes the alive attribute to be \"False\" and returns a String that says \"You killed [animal name] :((\".\n",
    "\n",
    "Use the below code block to write it. Feel free to create more code blocks below it to test it."
   ]
  },
  {
   "cell_type": "markdown",
   "id": "1a36cf43",
   "metadata": {},
   "source": [
    "..."
   ]
  }
 ],
 "metadata": {
  "kernelspec": {
   "display_name": "Python 3",
   "language": "python",
   "name": "python3"
  },
  "language_info": {
   "codemirror_mode": {
    "name": "ipython",
    "version": 3
   },
   "file_extension": ".py",
   "mimetype": "text/x-python",
   "name": "python",
   "nbconvert_exporter": "python",
   "pygments_lexer": "ipython3",
   "version": "3.8.8"
  }
 },
 "nbformat": 4,
 "nbformat_minor": 5
}
